{
 "cells": [
  {
   "cell_type": "markdown",
   "id": "1652fcbd",
   "metadata": {},
   "source": [
    "#importing pandas library"
   ]
  },
  {
   "cell_type": "code",
   "execution_count": 3,
   "id": "48ce366f",
   "metadata": {},
   "outputs": [],
   "source": [
    "import pandas as pd"
   ]
  },
  {
   "cell_type": "markdown",
   "id": "1244fbc5",
   "metadata": {},
   "source": [
    "#reading the databases"
   ]
  },
  {
   "cell_type": "code",
   "execution_count": 7,
   "id": "95ed0623",
   "metadata": {},
   "outputs": [
    {
     "data": {
      "text/html": [
       "<div>\n",
       "<style scoped>\n",
       "    .dataframe tbody tr th:only-of-type {\n",
       "        vertical-align: middle;\n",
       "    }\n",
       "\n",
       "    .dataframe tbody tr th {\n",
       "        vertical-align: top;\n",
       "    }\n",
       "\n",
       "    .dataframe thead th {\n",
       "        text-align: right;\n",
       "    }\n",
       "</style>\n",
       "<table border=\"1\" class=\"dataframe\">\n",
       "  <thead>\n",
       "    <tr style=\"text-align: right;\">\n",
       "      <th></th>\n",
       "      <th>Provider_ID</th>\n",
       "      <th>Name</th>\n",
       "      <th>Type</th>\n",
       "      <th>Address</th>\n",
       "      <th>City</th>\n",
       "      <th>Contact</th>\n",
       "    </tr>\n",
       "  </thead>\n",
       "  <tbody>\n",
       "    <tr>\n",
       "      <th>0</th>\n",
       "      <td>1</td>\n",
       "      <td>Gonzales-Cochran</td>\n",
       "      <td>Supermarket</td>\n",
       "      <td>74347 Christopher Extensions\\nAndreamouth, OK ...</td>\n",
       "      <td>New Jessica</td>\n",
       "      <td>+1-600-220-0480</td>\n",
       "    </tr>\n",
       "    <tr>\n",
       "      <th>1</th>\n",
       "      <td>2</td>\n",
       "      <td>Nielsen, Johnson and Fuller</td>\n",
       "      <td>Grocery Store</td>\n",
       "      <td>91228 Hanson Stream\\nWelchtown, OR 27136</td>\n",
       "      <td>East Sheena</td>\n",
       "      <td>+1-925-283-8901x6297</td>\n",
       "    </tr>\n",
       "    <tr>\n",
       "      <th>2</th>\n",
       "      <td>3</td>\n",
       "      <td>Miller-Black</td>\n",
       "      <td>Supermarket</td>\n",
       "      <td>561 Martinez Point Suite 507\\nGuzmanchester, W...</td>\n",
       "      <td>Lake Jesusview</td>\n",
       "      <td>001-517-295-2206</td>\n",
       "    </tr>\n",
       "    <tr>\n",
       "      <th>3</th>\n",
       "      <td>4</td>\n",
       "      <td>Clark, Prince and Williams</td>\n",
       "      <td>Grocery Store</td>\n",
       "      <td>467 Bell Trail Suite 409\\nPort Jesus, IA 61188</td>\n",
       "      <td>Mendezmouth</td>\n",
       "      <td>556.944.8935x401</td>\n",
       "    </tr>\n",
       "    <tr>\n",
       "      <th>4</th>\n",
       "      <td>5</td>\n",
       "      <td>Coleman-Farley</td>\n",
       "      <td>Grocery Store</td>\n",
       "      <td>078 Matthew Creek Apt. 319\\nSaraborough, MA 53978</td>\n",
       "      <td>Valentineside</td>\n",
       "      <td>193.714.6577</td>\n",
       "    </tr>\n",
       "    <tr>\n",
       "      <th>...</th>\n",
       "      <td>...</td>\n",
       "      <td>...</td>\n",
       "      <td>...</td>\n",
       "      <td>...</td>\n",
       "      <td>...</td>\n",
       "      <td>...</td>\n",
       "    </tr>\n",
       "    <tr>\n",
       "      <th>995</th>\n",
       "      <td>996</td>\n",
       "      <td>Vasquez, Ruiz and Flowers</td>\n",
       "      <td>Restaurant</td>\n",
       "      <td>84308 Justin Stravenue\\nNew Amberside, NE 53447</td>\n",
       "      <td>Williamview</td>\n",
       "      <td>+1-319-378-7627x0682</td>\n",
       "    </tr>\n",
       "    <tr>\n",
       "      <th>996</th>\n",
       "      <td>997</td>\n",
       "      <td>Garza-Williams</td>\n",
       "      <td>Catering Service</td>\n",
       "      <td>08864 Figueroa Radial Suite 948\\nJennaberg, AZ...</td>\n",
       "      <td>East Rossside</td>\n",
       "      <td>001-924-441-3963x746</td>\n",
       "    </tr>\n",
       "    <tr>\n",
       "      <th>997</th>\n",
       "      <td>998</td>\n",
       "      <td>Novak Group</td>\n",
       "      <td>Grocery Store</td>\n",
       "      <td>934 Zachary Run\\nMelissamouth, WY 02729</td>\n",
       "      <td>Joshuastad</td>\n",
       "      <td>(903)642-1969x3300</td>\n",
       "    </tr>\n",
       "    <tr>\n",
       "      <th>998</th>\n",
       "      <td>999</td>\n",
       "      <td>Moody Ltd</td>\n",
       "      <td>Grocery Store</td>\n",
       "      <td>17580 Ernest Hills\\nLake Michaelmouth, OR 56416</td>\n",
       "      <td>Stevenchester</td>\n",
       "      <td>637.300.3664x4880</td>\n",
       "    </tr>\n",
       "    <tr>\n",
       "      <th>999</th>\n",
       "      <td>1000</td>\n",
       "      <td>Jenkins-Brooks</td>\n",
       "      <td>Restaurant</td>\n",
       "      <td>53390 Evans Rapids Suite 982\\nLake Meghan, MO ...</td>\n",
       "      <td>Brendantown</td>\n",
       "      <td>266-324-3458x95775</td>\n",
       "    </tr>\n",
       "  </tbody>\n",
       "</table>\n",
       "<p>1000 rows × 6 columns</p>\n",
       "</div>"
      ],
      "text/plain": [
       "     Provider_ID                         Name              Type  \\\n",
       "0              1             Gonzales-Cochran       Supermarket   \n",
       "1              2  Nielsen, Johnson and Fuller     Grocery Store   \n",
       "2              3                 Miller-Black       Supermarket   \n",
       "3              4   Clark, Prince and Williams     Grocery Store   \n",
       "4              5               Coleman-Farley     Grocery Store   \n",
       "..           ...                          ...               ...   \n",
       "995          996    Vasquez, Ruiz and Flowers        Restaurant   \n",
       "996          997               Garza-Williams  Catering Service   \n",
       "997          998                  Novak Group     Grocery Store   \n",
       "998          999                    Moody Ltd     Grocery Store   \n",
       "999         1000               Jenkins-Brooks        Restaurant   \n",
       "\n",
       "                                               Address            City  \\\n",
       "0    74347 Christopher Extensions\\nAndreamouth, OK ...     New Jessica   \n",
       "1             91228 Hanson Stream\\nWelchtown, OR 27136     East Sheena   \n",
       "2    561 Martinez Point Suite 507\\nGuzmanchester, W...  Lake Jesusview   \n",
       "3       467 Bell Trail Suite 409\\nPort Jesus, IA 61188     Mendezmouth   \n",
       "4    078 Matthew Creek Apt. 319\\nSaraborough, MA 53978   Valentineside   \n",
       "..                                                 ...             ...   \n",
       "995    84308 Justin Stravenue\\nNew Amberside, NE 53447     Williamview   \n",
       "996  08864 Figueroa Radial Suite 948\\nJennaberg, AZ...   East Rossside   \n",
       "997            934 Zachary Run\\nMelissamouth, WY 02729      Joshuastad   \n",
       "998    17580 Ernest Hills\\nLake Michaelmouth, OR 56416   Stevenchester   \n",
       "999  53390 Evans Rapids Suite 982\\nLake Meghan, MO ...     Brendantown   \n",
       "\n",
       "                  Contact  \n",
       "0         +1-600-220-0480  \n",
       "1    +1-925-283-8901x6297  \n",
       "2        001-517-295-2206  \n",
       "3        556.944.8935x401  \n",
       "4            193.714.6577  \n",
       "..                    ...  \n",
       "995  +1-319-378-7627x0682  \n",
       "996  001-924-441-3963x746  \n",
       "997    (903)642-1969x3300  \n",
       "998     637.300.3664x4880  \n",
       "999    266-324-3458x95775  \n",
       "\n",
       "[1000 rows x 6 columns]"
      ]
     },
     "execution_count": 7,
     "metadata": {},
     "output_type": "execute_result"
    }
   ],
   "source": [
    "providers = pd.read_csv(r\"C:\\Users\\ASUS\\Downloads\\providers_data.csv\")\n",
    "receivers = pd.read_csv(r\"C:\\Users\\ASUS\\Downloads\\receivers_data.csv\")\n",
    "food_listings = pd.read_csv(r\"C:\\Users\\ASUS\\Downloads\\food_listings_data.csv\")\n",
    "claims = pd.read_csv(r\"C:\\Users\\ASUS\\Downloads\\claims_data.csv\")\n",
    "\n",
    "providers"
   ]
  },
  {
   "cell_type": "markdown",
   "id": "4318df7c",
   "metadata": {},
   "source": [
    "#checking for null values"
   ]
  },
  {
   "cell_type": "code",
   "execution_count": 8,
   "id": "403b36a9",
   "metadata": {},
   "outputs": [
    {
     "ename": "NameError",
     "evalue": "name 'df' is not defined",
     "output_type": "error",
     "traceback": [
      "\u001b[31m---------------------------------------------------------------------------\u001b[39m",
      "\u001b[31mNameError\u001b[39m                                 Traceback (most recent call last)",
      "\u001b[36mCell\u001b[39m\u001b[36m \u001b[39m\u001b[32mIn[8]\u001b[39m\u001b[32m, line 1\u001b[39m\n\u001b[32m----> \u001b[39m\u001b[32m1\u001b[39m \u001b[38;5;28mprint\u001b[39m(\u001b[43mdf\u001b[49m.isnull().sum())\n",
      "\u001b[31mNameError\u001b[39m: name 'df' is not defined"
     ]
    }
   ],
   "source": [
    "print(df.isnull().sum())"
   ]
  },
  {
   "cell_type": "markdown",
   "id": "fa5e8259",
   "metadata": {},
   "source": [
    "#importing MySQL\n"
   ]
  },
  {
   "cell_type": "code",
   "execution_count": 9,
   "id": "1731dfea",
   "metadata": {},
   "outputs": [],
   "source": [
    "import mysql.connector"
   ]
  },
  {
   "cell_type": "markdown",
   "id": "c8e02678",
   "metadata": {},
   "source": [
    "#connecting MySQL with python"
   ]
  },
  {
   "cell_type": "code",
   "execution_count": 10,
   "id": "424a318c",
   "metadata": {},
   "outputs": [],
   "source": [
    "conn = mysql.connector.connect(\n",
    "    host=\"localhost\",\n",
    "    user=\"root\",\n",
    "    password=\"Akshat@1122\",\n",
    "    database=\"food_waste_data\"\n",
    "\n",
    ")\n",
    "cursor = conn.cursor()"
   ]
  },
  {
   "cell_type": "markdown",
   "id": "0e15f6c0",
   "metadata": {},
   "source": [
    "#creating food_waste database"
   ]
  },
  {
   "cell_type": "code",
   "execution_count": 11,
   "id": "95e2eee7",
   "metadata": {},
   "outputs": [
    {
     "name": "stdout",
     "output_type": "stream",
     "text": [
      "MySQL database 'food_waste_data' created sucessfully!\n"
     ]
    }
   ],
   "source": [
    "cursor.execute(\"CREATE DATABASE IF NOT EXISTS food_waste_data\")\n",
    "print(\"MySQL database 'food_waste_data' created sucessfully!\")"
   ]
  },
  {
   "cell_type": "markdown",
   "id": "3cd77788",
   "metadata": {},
   "source": [
    "#using the specific database for creating schema"
   ]
  },
  {
   "cell_type": "code",
   "execution_count": 12,
   "id": "009fd467",
   "metadata": {},
   "outputs": [],
   "source": [
    "cursor.execute(\"use food_waste_data\")"
   ]
  },
  {
   "cell_type": "markdown",
   "id": "dd380026",
   "metadata": {},
   "source": [
    "#creating table schema for providers"
   ]
  },
  {
   "cell_type": "code",
   "execution_count": 36,
   "id": "482a11c9",
   "metadata": {},
   "outputs": [],
   "source": [
    "cursor.execute(\"\"\"\n",
    "    CREATE TABLE IF NOT EXISTS providers (\n",
    "        Providers_ID INT PRIMARY KEY,\n",
    "        Name VARCHAR(255),\n",
    "        Type VARCHAR(100),\n",
    "        Address TEXT,\n",
    "        City VARCHAR(100),\n",
    "        Contact VARCHAR(50)\n",
    "    )\n",
    "\"\"\")\n",
    "conn.commit()\n"
   ]
  },
  {
   "cell_type": "markdown",
   "id": "ab96503c",
   "metadata": {},
   "source": [
    "#transfering providers data into table database by using iterrows()"
   ]
  },
  {
   "cell_type": "code",
   "execution_count": 53,
   "id": "9148b4fd",
   "metadata": {},
   "outputs": [
    {
     "name": "stdout",
     "output_type": "stream",
     "text": [
      "Data inserted successfully.\n"
     ]
    }
   ],
   "source": [
    "for index, row in providers.iterrows():\n",
    "    cursor.execute(\"\"\"\n",
    "        INSERT INTO providers (Providers_ID, Name, Type, Address, City, Contact)\n",
    "        VALUES (%s, %s, %s, %s, %s, %s)\n",
    "        ON DUPLICATE KEY UPDATE\n",
    "            Name = VALUES(Name),\n",
    "            Type = VALUES(Type),\n",
    "            Address = VALUES(Address),\n",
    "            City = VALUES(City),\n",
    "            Contact = VALUES(Contact)\n",
    "    \"\"\", tuple(row))\n",
    "\n",
    "conn.commit()\n",
    "\n",
    "print(\"Data inserted successfully.\")"
   ]
  },
  {
   "cell_type": "markdown",
   "id": "79d8d013",
   "metadata": {},
   "source": [
    "#creating table schema for receivers"
   ]
  },
  {
   "cell_type": "code",
   "execution_count": 44,
   "id": "70a90fd8",
   "metadata": {},
   "outputs": [],
   "source": [
    "cursor.execute(\"\"\"\n",
    "    CREATE TABLE IF NOT EXISTS receivers (\n",
    "        Receiver_ID INT PRIMARY KEY,\n",
    "        Name VARCHAR(255),\n",
    "        Type VARCHAR(100),\n",
    "        City VARCHAR(100),\n",
    "        Contact VARCHAR(50)\n",
    "    )\n",
    "\"\"\")\n",
    "conn.commit()\n"
   ]
  },
  {
   "cell_type": "markdown",
   "id": "ad6da86c",
   "metadata": {},
   "source": [
    "#transfering receivers data into table database by using iterrows()"
   ]
  },
  {
   "cell_type": "code",
   "execution_count": 47,
   "id": "c3260425",
   "metadata": {},
   "outputs": [
    {
     "name": "stdout",
     "output_type": "stream",
     "text": [
      "Data inserted or updated successfully.\n"
     ]
    }
   ],
   "source": [
    "for index, row in receivers.iterrows():\n",
    "    cursor.execute(\"\"\"\n",
    "        INSERT INTO receivers (Receiver_ID, Name, Type, City, Contact)\n",
    "        VALUES (%s, %s, %s, %s, %s)\n",
    "        ON DUPLICATE KEY UPDATE\n",
    "            Name = VALUES(Name),\n",
    "            Type = VALUES(Type),\n",
    "            City = VALUES(City),\n",
    "            Contact = VALUES(Contact)\n",
    "    \"\"\", tuple(row))\n",
    "conn.commit()\n",
    "\n",
    "print(\"Data inserted or updated successfully.\")"
   ]
  },
  {
   "cell_type": "markdown",
   "id": "bd2aab70",
   "metadata": {},
   "source": [
    "#creating table schema for food_listings"
   ]
  },
  {
   "cell_type": "code",
   "execution_count": 50,
   "id": "5a3adc59",
   "metadata": {},
   "outputs": [],
   "source": [
    "cursor.execute(\"\"\"\n",
    "    CREATE TABLE IF NOT EXISTS food_listings (\n",
    "        Food_ID INT PRIMARY KEY,\n",
    "        Food_Name VARCHAR(255),\n",
    "        Quantity VARCHAR(100),\n",
    "        Expiry_Date VARCHAR(100),\n",
    "        Provider_ID VARCHAR(50),\n",
    "        Provider_Type VARCHAR(100),\n",
    "        Location VARCHAR(100),\n",
    "        Food_Type VARCHAR(100),\n",
    "        Meal_Type VARCHAR(100)\n",
    "    )\n",
    "\"\"\")\n",
    "conn.commit()\n"
   ]
  },
  {
   "cell_type": "markdown",
   "id": "c546416b",
   "metadata": {},
   "source": [
    "#transfering food_listings data into table database by using iterrows()"
   ]
  },
  {
   "cell_type": "code",
   "execution_count": 52,
   "id": "030967eb",
   "metadata": {},
   "outputs": [
    {
     "name": "stdout",
     "output_type": "stream",
     "text": [
      "Data inserted successfully.\n"
     ]
    }
   ],
   "source": [
    "for index, row in food_listings.iterrows():\n",
    "    cursor.execute(\"\"\"\n",
    "        INSERT INTO food_listings (Food_ID, Food_Name, Quantity, Expiry_Date, Provider_ID, Provider_Type, Location, Food_Type, Meal_Type)\n",
    "        VALUES (%s,%s,%s,%s,%s,%s,%s,%s,%s)\n",
    "        ON DUPLICATE KEY UPDATE\n",
    "            Food_Name = VALUES(Food_Name),\n",
    "            Quantity = VALUES(Quantity),\n",
    "            Expiry_Date = VALUES(Expiry_Date),\n",
    "            Provider_ID = VALUES(Provider_ID),\n",
    "            Provider_Type = VALUES(Provider_Type),\n",
    "            Location = VALUES(Location),\n",
    "            Food_Type = VALUES(Food_Type),\n",
    "            Meal_Type = VALUES(Meal_Type)\n",
    "    \"\"\", tuple(row))\n",
    "conn.commit()\n",
    "\n",
    "print(\"Data inserted successfully.\")"
   ]
  },
  {
   "cell_type": "markdown",
   "id": "9aa76a2c",
   "metadata": {},
   "source": [
    "#creating table schema for claims"
   ]
  },
  {
   "cell_type": "code",
   "execution_count": 55,
   "id": "7ee2abae",
   "metadata": {},
   "outputs": [],
   "source": [
    "cursor.execute(\"\"\"\n",
    "    CREATE TABLE IF NOT EXISTS claims (\n",
    "        Claim_ID INT PRIMARY KEY,\n",
    "        Food_ID VARCHAR(255),\n",
    "        Reciever_ID VARCHAR(100),\n",
    "        Status VARCHAR(100),\n",
    "        Timestamp VARCHAR(50)\n",
    "    )\n",
    "\"\"\")\n",
    "conn.commit()"
   ]
  },
  {
   "cell_type": "markdown",
   "id": "a45e2efc",
   "metadata": {},
   "source": [
    "#transfering claims data into table database by using iterrows()"
   ]
  },
  {
   "cell_type": "code",
   "execution_count": 58,
   "id": "88a8526a",
   "metadata": {},
   "outputs": [
    {
     "name": "stdout",
     "output_type": "stream",
     "text": [
      "Data inserted successfully.\n"
     ]
    }
   ],
   "source": [
    "for index, row in claims.iterrows():\n",
    "    cursor.execute(\"\"\"\n",
    "        INSERT INTO claims (Claim_ID, Food_ID, Reciever_ID, Status, Timestamp)\n",
    "        VALUES (%s,%s,%s,%s,%s)\n",
    "        ON DUPLICATE KEY UPDATE\n",
    "            Food_ID = VALUES(Food_ID),\n",
    "            Reciever_ID = VALUES(Reciever_ID),\n",
    "            Status = VALUES(Status),\n",
    "            Timestamp = VALUES(Timestamp)\n",
    "    \"\"\", tuple(row))\n",
    "conn.commit()\n",
    "\n",
    "print(\"Data inserted successfully.\")"
   ]
  },
  {
   "cell_type": "markdown",
   "id": "cb07228b",
   "metadata": {},
   "source": [
    "# QUESTION & ANSWERS"
   ]
  },
  {
   "cell_type": "markdown",
   "id": "fb77a5ca",
   "metadata": {},
   "source": [
    "# 1. How many food providers and receivers are there in each city?\n"
   ]
  },
  {
   "cell_type": "code",
   "execution_count": 13,
   "id": "1210b724",
   "metadata": {},
   "outputs": [
    {
     "data": {
      "text/html": [
       "<div>\n",
       "<style scoped>\n",
       "    .dataframe tbody tr th:only-of-type {\n",
       "        vertical-align: middle;\n",
       "    }\n",
       "\n",
       "    .dataframe tbody tr th {\n",
       "        vertical-align: top;\n",
       "    }\n",
       "\n",
       "    .dataframe thead th {\n",
       "        text-align: right;\n",
       "    }\n",
       "</style>\n",
       "<table border=\"1\" class=\"dataframe\">\n",
       "  <thead>\n",
       "    <tr style=\"text-align: right;\">\n",
       "      <th></th>\n",
       "      <th>city</th>\n",
       "      <th>provider_count</th>\n",
       "      <th>receiver_count</th>\n",
       "    </tr>\n",
       "  </thead>\n",
       "  <tbody>\n",
       "    <tr>\n",
       "      <th>0</th>\n",
       "      <td>Aaronshire</td>\n",
       "      <td>0</td>\n",
       "      <td>1</td>\n",
       "    </tr>\n",
       "    <tr>\n",
       "      <th>1</th>\n",
       "      <td>Adambury</td>\n",
       "      <td>1</td>\n",
       "      <td>0</td>\n",
       "    </tr>\n",
       "    <tr>\n",
       "      <th>2</th>\n",
       "      <td>Adamland</td>\n",
       "      <td>0</td>\n",
       "      <td>1</td>\n",
       "    </tr>\n",
       "    <tr>\n",
       "      <th>3</th>\n",
       "      <td>Adamsview</td>\n",
       "      <td>1</td>\n",
       "      <td>0</td>\n",
       "    </tr>\n",
       "    <tr>\n",
       "      <th>4</th>\n",
       "      <td>Adamsville</td>\n",
       "      <td>1</td>\n",
       "      <td>0</td>\n",
       "    </tr>\n",
       "    <tr>\n",
       "      <th>...</th>\n",
       "      <td>...</td>\n",
       "      <td>...</td>\n",
       "      <td>...</td>\n",
       "    </tr>\n",
       "    <tr>\n",
       "      <th>1873</th>\n",
       "      <td>Yatesside</td>\n",
       "      <td>1</td>\n",
       "      <td>0</td>\n",
       "    </tr>\n",
       "    <tr>\n",
       "      <th>1874</th>\n",
       "      <td>Youngchester</td>\n",
       "      <td>1</td>\n",
       "      <td>0</td>\n",
       "    </tr>\n",
       "    <tr>\n",
       "      <th>1875</th>\n",
       "      <td>Zacharyview</td>\n",
       "      <td>0</td>\n",
       "      <td>1</td>\n",
       "    </tr>\n",
       "    <tr>\n",
       "      <th>1876</th>\n",
       "      <td>Zimmermanton</td>\n",
       "      <td>1</td>\n",
       "      <td>0</td>\n",
       "    </tr>\n",
       "    <tr>\n",
       "      <th>1877</th>\n",
       "      <td>Zimmermanville</td>\n",
       "      <td>1</td>\n",
       "      <td>0</td>\n",
       "    </tr>\n",
       "  </tbody>\n",
       "</table>\n",
       "<p>1878 rows × 3 columns</p>\n",
       "</div>"
      ],
      "text/plain": [
       "                city provider_count receiver_count\n",
       "0         Aaronshire              0              1\n",
       "1           Adambury              1              0\n",
       "2           Adamland              0              1\n",
       "3          Adamsview              1              0\n",
       "4         Adamsville              1              0\n",
       "...              ...            ...            ...\n",
       "1873       Yatesside              1              0\n",
       "1874    Youngchester              1              0\n",
       "1875     Zacharyview              0              1\n",
       "1876    Zimmermanton              1              0\n",
       "1877  Zimmermanville              1              0\n",
       "\n",
       "[1878 rows x 3 columns]"
      ]
     },
     "execution_count": 13,
     "metadata": {},
     "output_type": "execute_result"
    }
   ],
   "source": [
    "query=\"\"\"\n",
    "SELECT city,\n",
    "       SUM(provider_count) AS provider_count,\n",
    "       SUM(receiver_count) AS receiver_count\n",
    "FROM (\n",
    "    SELECT city, COUNT(*) AS provider_count, 0 AS receiver_count\n",
    "    FROM providers\n",
    "    GROUP BY city\n",
    "\n",
    "    UNION ALL\n",
    "\n",
    "    SELECT city, 0 AS provider_count, COUNT(*) AS receiver_count\n",
    "    FROM receivers\n",
    "    GROUP BY city\n",
    ") AS combined\n",
    "GROUP BY city\n",
    "ORDER BY city ASC;\n",
    "\"\"\"\n",
    "cursor.execute(query)\n",
    "result = cursor.fetchall()\n",
    "\n",
    "df = pd.DataFrame(result, columns=['city', 'provider_count', 'receiver_count'])\n",
    "df"
   ]
  },
  {
   "cell_type": "markdown",
   "id": "d9378a93",
   "metadata": {},
   "source": [
    "# 2. Which type of food provider (restaurant, grocery store, etc.) contributes the most food?\n"
   ]
  },
  {
   "cell_type": "code",
   "execution_count": 14,
   "id": "72c8346b",
   "metadata": {},
   "outputs": [
    {
     "data": {
      "text/html": [
       "<div>\n",
       "<style scoped>\n",
       "    .dataframe tbody tr th:only-of-type {\n",
       "        vertical-align: middle;\n",
       "    }\n",
       "\n",
       "    .dataframe tbody tr th {\n",
       "        vertical-align: top;\n",
       "    }\n",
       "\n",
       "    .dataframe thead th {\n",
       "        text-align: right;\n",
       "    }\n",
       "</style>\n",
       "<table border=\"1\" class=\"dataframe\">\n",
       "  <thead>\n",
       "    <tr style=\"text-align: right;\">\n",
       "      <th></th>\n",
       "      <th>provider_type</th>\n",
       "      <th>total_food_contributed</th>\n",
       "    </tr>\n",
       "  </thead>\n",
       "  <tbody>\n",
       "    <tr>\n",
       "      <th>0</th>\n",
       "      <td>Restaurant</td>\n",
       "      <td>6923.0</td>\n",
       "    </tr>\n",
       "  </tbody>\n",
       "</table>\n",
       "</div>"
      ],
      "text/plain": [
       "  provider_type  total_food_contributed\n",
       "0    Restaurant                  6923.0"
      ]
     },
     "execution_count": 14,
     "metadata": {},
     "output_type": "execute_result"
    }
   ],
   "source": [
    "query = \"\"\"\n",
    "SELECT p.Type AS provider_type, SUM(f.quantity) AS total_food_contributed\n",
    "FROM food_listings f\n",
    "JOIN providers p ON f.provider_id = p.Providers_ID\n",
    "GROUP BY p.Type\n",
    "ORDER BY total_food_contributed DESC\n",
    "LIMIT 1;\n",
    "\"\"\"\n",
    "\n",
    "cursor.execute(query)\n",
    "result = cursor.fetchall()\n",
    "\n",
    "df = pd.DataFrame(result, columns=['provider_type', 'total_food_contributed'])\n",
    "df\n"
   ]
  },
  {
   "cell_type": "markdown",
   "id": "b605ec6f",
   "metadata": {},
   "source": [
    "# 3. What is the contact information of food providers in a specific city?"
   ]
  },
  {
   "cell_type": "code",
   "execution_count": 15,
   "id": "d58a1bee",
   "metadata": {},
   "outputs": [
    {
     "data": {
      "text/html": [
       "<div>\n",
       "<style scoped>\n",
       "    .dataframe tbody tr th:only-of-type {\n",
       "        vertical-align: middle;\n",
       "    }\n",
       "\n",
       "    .dataframe tbody tr th {\n",
       "        vertical-align: top;\n",
       "    }\n",
       "\n",
       "    .dataframe thead th {\n",
       "        text-align: right;\n",
       "    }\n",
       "</style>\n",
       "<table border=\"1\" class=\"dataframe\">\n",
       "  <thead>\n",
       "    <tr style=\"text-align: right;\">\n",
       "      <th></th>\n",
       "      <th>Name</th>\n",
       "      <th>Contact</th>\n",
       "      <th>Address</th>\n",
       "    </tr>\n",
       "  </thead>\n",
       "  <tbody>\n",
       "    <tr>\n",
       "      <th>0</th>\n",
       "      <td>Gonzales-Cochran</td>\n",
       "      <td>+1-600-220-0480</td>\n",
       "      <td>74347 Christopher Extensions\\nAndreamouth, OK ...</td>\n",
       "    </tr>\n",
       "  </tbody>\n",
       "</table>\n",
       "</div>"
      ],
      "text/plain": [
       "               Name          Contact  \\\n",
       "0  Gonzales-Cochran  +1-600-220-0480   \n",
       "\n",
       "                                             Address  \n",
       "0  74347 Christopher Extensions\\nAndreamouth, OK ...  "
      ]
     },
     "execution_count": 15,
     "metadata": {},
     "output_type": "execute_result"
    }
   ],
   "source": [
    "query=\"\"\"\n",
    "SELECT Name, Contact, Address\n",
    "FROM providers\n",
    "WHERE City = 'New Jessica';\n",
    "\"\"\"\n",
    "\n",
    "cursor.execute(query)\n",
    "result = cursor.fetchall()\n",
    "\n",
    "df = pd.DataFrame(result, columns=['Name', 'Contact', 'Address'])\n",
    "df"
   ]
  },
  {
   "cell_type": "markdown",
   "id": "4f9f723a",
   "metadata": {},
   "source": [
    "# 4. Which receivers have claimed the most food?"
   ]
  },
  {
   "cell_type": "code",
   "execution_count": 16,
   "id": "92c60560",
   "metadata": {},
   "outputs": [
    {
     "data": {
      "text/html": [
       "<div>\n",
       "<style scoped>\n",
       "    .dataframe tbody tr th:only-of-type {\n",
       "        vertical-align: middle;\n",
       "    }\n",
       "\n",
       "    .dataframe tbody tr th {\n",
       "        vertical-align: top;\n",
       "    }\n",
       "\n",
       "    .dataframe thead th {\n",
       "        text-align: right;\n",
       "    }\n",
       "</style>\n",
       "<table border=\"1\" class=\"dataframe\">\n",
       "  <thead>\n",
       "    <tr style=\"text-align: right;\">\n",
       "      <th></th>\n",
       "      <th>Receiver Name</th>\n",
       "      <th>Total Claimed</th>\n",
       "    </tr>\n",
       "  </thead>\n",
       "  <tbody>\n",
       "    <tr>\n",
       "      <th>0</th>\n",
       "      <td>Matthew Webb</td>\n",
       "      <td>191.0</td>\n",
       "    </tr>\n",
       "  </tbody>\n",
       "</table>\n",
       "</div>"
      ],
      "text/plain": [
       "  Receiver Name  Total Claimed\n",
       "0  Matthew Webb          191.0"
      ]
     },
     "execution_count": 16,
     "metadata": {},
     "output_type": "execute_result"
    }
   ],
   "source": [
    "query = \"\"\"\n",
    "SELECT r.Name, SUM(f.quantity) AS total_claimed\n",
    "FROM claims c\n",
    "JOIN receivers r ON c.Reciever_ID = r.Receiver_ID\n",
    "JOIN food_listings f ON c.Food_ID = f.Food_ID\n",
    "GROUP BY r.Name\n",
    "ORDER BY total_claimed DESC\n",
    "LIMIT 1;\n",
    "\"\"\"\n",
    "\n",
    "cursor.execute(query)\n",
    "result = cursor.fetchall()\n",
    "\n",
    "df = pd.DataFrame(result, columns=['Receiver Name', 'Total Claimed'])\n",
    "df\n"
   ]
  },
  {
   "cell_type": "markdown",
   "id": "a2c62f65",
   "metadata": {},
   "source": [
    "# 5. What is the total quantity of food available from all providers?"
   ]
  },
  {
   "cell_type": "code",
   "execution_count": 17,
   "id": "2869b062",
   "metadata": {},
   "outputs": [
    {
     "data": {
      "text/html": [
       "<div>\n",
       "<style scoped>\n",
       "    .dataframe tbody tr th:only-of-type {\n",
       "        vertical-align: middle;\n",
       "    }\n",
       "\n",
       "    .dataframe tbody tr th {\n",
       "        vertical-align: top;\n",
       "    }\n",
       "\n",
       "    .dataframe thead th {\n",
       "        text-align: right;\n",
       "    }\n",
       "</style>\n",
       "<table border=\"1\" class=\"dataframe\">\n",
       "  <thead>\n",
       "    <tr style=\"text-align: right;\">\n",
       "      <th></th>\n",
       "      <th>Total Food Available</th>\n",
       "    </tr>\n",
       "  </thead>\n",
       "  <tbody>\n",
       "    <tr>\n",
       "      <th>0</th>\n",
       "      <td>25794.0</td>\n",
       "    </tr>\n",
       "  </tbody>\n",
       "</table>\n",
       "</div>"
      ],
      "text/plain": [
       "   Total Food Available\n",
       "0               25794.0"
      ]
     },
     "execution_count": 17,
     "metadata": {},
     "output_type": "execute_result"
    }
   ],
   "source": [
    "query=\"\"\"\n",
    "SELECT SUM(quantity) AS total_food_available\n",
    "FROM food_listings;\n",
    "\"\"\"\n",
    "\n",
    "cursor.execute(query)\n",
    "result = cursor.fetchall()\n",
    "\n",
    "df = pd.DataFrame(result, columns=['Total Food Available'])\n",
    "df\n"
   ]
  },
  {
   "cell_type": "markdown",
   "id": "1f784074",
   "metadata": {},
   "source": [
    "# 6. Which city has the highest number of food listings?"
   ]
  },
  {
   "cell_type": "code",
   "execution_count": 18,
   "id": "d36bf96f",
   "metadata": {},
   "outputs": [
    {
     "data": {
      "text/html": [
       "<div>\n",
       "<style scoped>\n",
       "    .dataframe tbody tr th:only-of-type {\n",
       "        vertical-align: middle;\n",
       "    }\n",
       "\n",
       "    .dataframe tbody tr th {\n",
       "        vertical-align: top;\n",
       "    }\n",
       "\n",
       "    .dataframe thead th {\n",
       "        text-align: right;\n",
       "    }\n",
       "</style>\n",
       "<table border=\"1\" class=\"dataframe\">\n",
       "  <thead>\n",
       "    <tr style=\"text-align: right;\">\n",
       "      <th></th>\n",
       "      <th>City</th>\n",
       "      <th>Total Listings</th>\n",
       "    </tr>\n",
       "  </thead>\n",
       "  <tbody>\n",
       "    <tr>\n",
       "      <th>1</th>\n",
       "      <td>New Carol</td>\n",
       "      <td>6</td>\n",
       "    </tr>\n",
       "  </tbody>\n",
       "</table>\n",
       "</div>"
      ],
      "text/plain": [
       "        City  Total Listings\n",
       "1  New Carol               6"
      ]
     },
     "execution_count": 18,
     "metadata": {},
     "output_type": "execute_result"
    }
   ],
   "source": [
    "query = \"\"\"\n",
    "SELECT p.City, COUNT(*) AS total_listings\n",
    "FROM food_listings f\n",
    "JOIN providers p ON f.provider_id = p.Providers_ID\n",
    "GROUP BY p.City\n",
    "ORDER BY total_listings DESC\n",
    "LIMIT 1;\n",
    "\"\"\"\n",
    "\n",
    "cursor.execute(query)\n",
    "result = cursor.fetchall()\n",
    "\n",
    "df = pd.DataFrame(result, columns=['City', 'Total Listings'])\n",
    "df\n",
    "df.index = range(1, len(df) + 1)\n",
    "df\n"
   ]
  },
  {
   "cell_type": "markdown",
   "id": "dd8267c1",
   "metadata": {},
   "source": [
    "# 7. What are the most commonly available food types?"
   ]
  },
  {
   "cell_type": "code",
   "execution_count": 19,
   "id": "05b363ff",
   "metadata": {},
   "outputs": [
    {
     "data": {
      "text/html": [
       "<div>\n",
       "<style scoped>\n",
       "    .dataframe tbody tr th:only-of-type {\n",
       "        vertical-align: middle;\n",
       "    }\n",
       "\n",
       "    .dataframe tbody tr th {\n",
       "        vertical-align: top;\n",
       "    }\n",
       "\n",
       "    .dataframe thead th {\n",
       "        text-align: right;\n",
       "    }\n",
       "</style>\n",
       "<table border=\"1\" class=\"dataframe\">\n",
       "  <thead>\n",
       "    <tr style=\"text-align: right;\">\n",
       "      <th></th>\n",
       "      <th>Food Type</th>\n",
       "      <th>Occurrences</th>\n",
       "    </tr>\n",
       "  </thead>\n",
       "  <tbody>\n",
       "    <tr>\n",
       "      <th>1</th>\n",
       "      <td>Vegetarian</td>\n",
       "      <td>336</td>\n",
       "    </tr>\n",
       "    <tr>\n",
       "      <th>2</th>\n",
       "      <td>Vegan</td>\n",
       "      <td>334</td>\n",
       "    </tr>\n",
       "    <tr>\n",
       "      <th>3</th>\n",
       "      <td>Non-Vegetarian</td>\n",
       "      <td>330</td>\n",
       "    </tr>\n",
       "  </tbody>\n",
       "</table>\n",
       "</div>"
      ],
      "text/plain": [
       "        Food Type  Occurrences\n",
       "1      Vegetarian          336\n",
       "2           Vegan          334\n",
       "3  Non-Vegetarian          330"
      ]
     },
     "execution_count": 19,
     "metadata": {},
     "output_type": "execute_result"
    }
   ],
   "source": [
    "query = \"\"\"\n",
    "SELECT Food_Type, COUNT(*) AS occurrences\n",
    "FROM food_listings\n",
    "GROUP BY Food_Type\n",
    "ORDER BY occurrences DESC;\n",
    "\"\"\"\n",
    "\n",
    "cursor.execute(query)\n",
    "result = cursor.fetchall()\n",
    "\n",
    "df = pd.DataFrame(result, columns=['Food Type', 'Occurrences'])\n",
    "df.index = range(1, len(df) + 1)\n",
    "df\n"
   ]
  },
  {
   "cell_type": "markdown",
   "id": "22591646",
   "metadata": {},
   "source": [
    "# 8.How many food claims have been made for each food item?"
   ]
  },
  {
   "cell_type": "code",
   "execution_count": 20,
   "id": "e4f83d78",
   "metadata": {},
   "outputs": [
    {
     "data": {
      "text/html": [
       "<div>\n",
       "<style scoped>\n",
       "    .dataframe tbody tr th:only-of-type {\n",
       "        vertical-align: middle;\n",
       "    }\n",
       "\n",
       "    .dataframe tbody tr th {\n",
       "        vertical-align: top;\n",
       "    }\n",
       "\n",
       "    .dataframe thead th {\n",
       "        text-align: right;\n",
       "    }\n",
       "</style>\n",
       "<table border=\"1\" class=\"dataframe\">\n",
       "  <thead>\n",
       "    <tr style=\"text-align: right;\">\n",
       "      <th></th>\n",
       "      <th>Food Name</th>\n",
       "      <th>Total Claims</th>\n",
       "    </tr>\n",
       "  </thead>\n",
       "  <tbody>\n",
       "    <tr>\n",
       "      <th>1</th>\n",
       "      <td>Rice</td>\n",
       "      <td>122</td>\n",
       "    </tr>\n",
       "    <tr>\n",
       "      <th>2</th>\n",
       "      <td>Soup</td>\n",
       "      <td>114</td>\n",
       "    </tr>\n",
       "    <tr>\n",
       "      <th>3</th>\n",
       "      <td>Dairy</td>\n",
       "      <td>110</td>\n",
       "    </tr>\n",
       "    <tr>\n",
       "      <th>4</th>\n",
       "      <td>Fish</td>\n",
       "      <td>108</td>\n",
       "    </tr>\n",
       "    <tr>\n",
       "      <th>5</th>\n",
       "      <td>Salad</td>\n",
       "      <td>106</td>\n",
       "    </tr>\n",
       "    <tr>\n",
       "      <th>6</th>\n",
       "      <td>Chicken</td>\n",
       "      <td>102</td>\n",
       "    </tr>\n",
       "    <tr>\n",
       "      <th>7</th>\n",
       "      <td>Bread</td>\n",
       "      <td>94</td>\n",
       "    </tr>\n",
       "    <tr>\n",
       "      <th>8</th>\n",
       "      <td>Pasta</td>\n",
       "      <td>87</td>\n",
       "    </tr>\n",
       "    <tr>\n",
       "      <th>9</th>\n",
       "      <td>Vegetables</td>\n",
       "      <td>86</td>\n",
       "    </tr>\n",
       "    <tr>\n",
       "      <th>10</th>\n",
       "      <td>Fruits</td>\n",
       "      <td>71</td>\n",
       "    </tr>\n",
       "  </tbody>\n",
       "</table>\n",
       "</div>"
      ],
      "text/plain": [
       "     Food Name  Total Claims\n",
       "1         Rice           122\n",
       "2         Soup           114\n",
       "3        Dairy           110\n",
       "4         Fish           108\n",
       "5        Salad           106\n",
       "6      Chicken           102\n",
       "7        Bread            94\n",
       "8        Pasta            87\n",
       "9   Vegetables            86\n",
       "10      Fruits            71"
      ]
     },
     "execution_count": 20,
     "metadata": {},
     "output_type": "execute_result"
    }
   ],
   "source": [
    "query = \"\"\"\n",
    "SELECT f.Food_Name, COUNT(c.Claim_ID) AS total_claims\n",
    "FROM claims c\n",
    "JOIN food_listings f ON c.Food_ID = f.Food_ID\n",
    "GROUP BY f.Food_Name\n",
    "ORDER BY total_claims DESC;\n",
    "\"\"\"\n",
    "\n",
    "cursor.execute(query)\n",
    "result = cursor.fetchall()\n",
    "\n",
    "df = pd.DataFrame(result, columns=['Food Name', 'Total Claims'])\n",
    "df.index = range(1, len(df) + 1)  # Start row index from 1\n",
    "df"
   ]
  },
  {
   "cell_type": "markdown",
   "id": "1867a4ae",
   "metadata": {},
   "source": [
    "# 9. Which provider has had the highest number of successful food claims?"
   ]
  },
  {
   "cell_type": "code",
   "execution_count": 21,
   "id": "6bcef493",
   "metadata": {},
   "outputs": [
    {
     "data": {
      "text/html": [
       "<div>\n",
       "<style scoped>\n",
       "    .dataframe tbody tr th:only-of-type {\n",
       "        vertical-align: middle;\n",
       "    }\n",
       "\n",
       "    .dataframe tbody tr th {\n",
       "        vertical-align: top;\n",
       "    }\n",
       "\n",
       "    .dataframe thead th {\n",
       "        text-align: right;\n",
       "    }\n",
       "</style>\n",
       "<table border=\"1\" class=\"dataframe\">\n",
       "  <thead>\n",
       "    <tr style=\"text-align: right;\">\n",
       "      <th></th>\n",
       "      <th>Provider Name</th>\n",
       "      <th>Successful Claims</th>\n",
       "    </tr>\n",
       "  </thead>\n",
       "  <tbody>\n",
       "    <tr>\n",
       "      <th>1</th>\n",
       "      <td>Barry Group</td>\n",
       "      <td>5</td>\n",
       "    </tr>\n",
       "  </tbody>\n",
       "</table>\n",
       "</div>"
      ],
      "text/plain": [
       "  Provider Name  Successful Claims\n",
       "1   Barry Group                  5"
      ]
     },
     "execution_count": 21,
     "metadata": {},
     "output_type": "execute_result"
    }
   ],
   "source": [
    "query = \"\"\"\n",
    "SELECT p.Name, COUNT(c.Claim_ID) AS successful_claims\n",
    "FROM claims c\n",
    "JOIN food_listings f ON c.Food_ID = f.Food_ID\n",
    "JOIN providers p ON f.Provider_ID = p.Providers_ID\n",
    "WHERE c.Status = 'Completed'\n",
    "GROUP BY p.Name\n",
    "ORDER BY successful_claims DESC\n",
    "LIMIT 1;\n",
    "\"\"\"\n",
    "\n",
    "cursor.execute(query)\n",
    "result = cursor.fetchall()\n",
    "\n",
    "df = pd.DataFrame(result, columns=['Provider Name', 'Successful Claims'])\n",
    "df.index = range(1, len(df) + 1)\n",
    "df\n"
   ]
  },
  {
   "cell_type": "markdown",
   "id": "8d5f49b5",
   "metadata": {},
   "source": [
    "# 10. What percentage of food claims are completed vs. pending vs. canceled?\n"
   ]
  },
  {
   "cell_type": "code",
   "execution_count": 22,
   "id": "83e213d8",
   "metadata": {},
   "outputs": [
    {
     "data": {
      "text/html": [
       "<div>\n",
       "<style scoped>\n",
       "    .dataframe tbody tr th:only-of-type {\n",
       "        vertical-align: middle;\n",
       "    }\n",
       "\n",
       "    .dataframe tbody tr th {\n",
       "        vertical-align: top;\n",
       "    }\n",
       "\n",
       "    .dataframe thead th {\n",
       "        text-align: right;\n",
       "    }\n",
       "</style>\n",
       "<table border=\"1\" class=\"dataframe\">\n",
       "  <thead>\n",
       "    <tr style=\"text-align: right;\">\n",
       "      <th></th>\n",
       "      <th>Status</th>\n",
       "      <th>Count</th>\n",
       "      <th>Percentage</th>\n",
       "    </tr>\n",
       "  </thead>\n",
       "  <tbody>\n",
       "    <tr>\n",
       "      <th>1</th>\n",
       "      <td>Completed</td>\n",
       "      <td>339</td>\n",
       "      <td>33.90</td>\n",
       "    </tr>\n",
       "    <tr>\n",
       "      <th>2</th>\n",
       "      <td>Cancelled</td>\n",
       "      <td>336</td>\n",
       "      <td>33.60</td>\n",
       "    </tr>\n",
       "    <tr>\n",
       "      <th>3</th>\n",
       "      <td>Pending</td>\n",
       "      <td>325</td>\n",
       "      <td>32.50</td>\n",
       "    </tr>\n",
       "  </tbody>\n",
       "</table>\n",
       "</div>"
      ],
      "text/plain": [
       "      Status  Count Percentage\n",
       "1  Completed    339      33.90\n",
       "2  Cancelled    336      33.60\n",
       "3    Pending    325      32.50"
      ]
     },
     "execution_count": 22,
     "metadata": {},
     "output_type": "execute_result"
    }
   ],
   "source": [
    "query = \"\"\"\n",
    "SELECT \n",
    "    Status,\n",
    "    COUNT(*) AS count,\n",
    "    ROUND(COUNT(*) * 100.0 / (SELECT COUNT(*) FROM claims), 2) AS percentage\n",
    "FROM claims\n",
    "GROUP BY Status\n",
    "ORDER BY percentage DESC;\n",
    "\"\"\"\n",
    "\n",
    "cursor.execute(query)\n",
    "result = cursor.fetchall()\n",
    "\n",
    "df = pd.DataFrame(result, columns=['Status', 'Count', 'Percentage'])\n",
    "df.index = range(1, len(df) + 1)\n",
    "df\n"
   ]
  },
  {
   "cell_type": "markdown",
   "id": "103324d3",
   "metadata": {},
   "source": [
    "# 11. What is the average quantity of food claimed per receiver?"
   ]
  },
  {
   "cell_type": "code",
   "execution_count": 23,
   "id": "c4005be4",
   "metadata": {},
   "outputs": [
    {
     "data": {
      "text/html": [
       "<div>\n",
       "<style scoped>\n",
       "    .dataframe tbody tr th:only-of-type {\n",
       "        vertical-align: middle;\n",
       "    }\n",
       "\n",
       "    .dataframe tbody tr th {\n",
       "        vertical-align: top;\n",
       "    }\n",
       "\n",
       "    .dataframe thead th {\n",
       "        text-align: right;\n",
       "    }\n",
       "</style>\n",
       "<table border=\"1\" class=\"dataframe\">\n",
       "  <thead>\n",
       "    <tr style=\"text-align: right;\">\n",
       "      <th></th>\n",
       "      <th>Receiver Name</th>\n",
       "      <th>Avg Quantity Claimed</th>\n",
       "    </tr>\n",
       "  </thead>\n",
       "  <tbody>\n",
       "    <tr>\n",
       "      <th>1</th>\n",
       "      <td>Nancy Jones</td>\n",
       "      <td>50.0000</td>\n",
       "    </tr>\n",
       "    <tr>\n",
       "      <th>2</th>\n",
       "      <td>Lisa Pitts</td>\n",
       "      <td>50.0000</td>\n",
       "    </tr>\n",
       "    <tr>\n",
       "      <th>3</th>\n",
       "      <td>Christopher Wright</td>\n",
       "      <td>50.0000</td>\n",
       "    </tr>\n",
       "    <tr>\n",
       "      <th>4</th>\n",
       "      <td>Nancy Silva</td>\n",
       "      <td>50.0000</td>\n",
       "    </tr>\n",
       "    <tr>\n",
       "      <th>5</th>\n",
       "      <td>Peggy Knight</td>\n",
       "      <td>50.0000</td>\n",
       "    </tr>\n",
       "    <tr>\n",
       "      <th>...</th>\n",
       "      <td>...</td>\n",
       "      <td>...</td>\n",
       "    </tr>\n",
       "    <tr>\n",
       "      <th>616</th>\n",
       "      <td>John Reynolds</td>\n",
       "      <td>2.0000</td>\n",
       "    </tr>\n",
       "    <tr>\n",
       "      <th>617</th>\n",
       "      <td>Matthew Johnson</td>\n",
       "      <td>2.0000</td>\n",
       "    </tr>\n",
       "    <tr>\n",
       "      <th>618</th>\n",
       "      <td>Kenneth Barnes</td>\n",
       "      <td>2.0000</td>\n",
       "    </tr>\n",
       "    <tr>\n",
       "      <th>619</th>\n",
       "      <td>Amanda Kline</td>\n",
       "      <td>1.0000</td>\n",
       "    </tr>\n",
       "    <tr>\n",
       "      <th>620</th>\n",
       "      <td>Joshua Hooper</td>\n",
       "      <td>1.0000</td>\n",
       "    </tr>\n",
       "  </tbody>\n",
       "</table>\n",
       "<p>620 rows × 2 columns</p>\n",
       "</div>"
      ],
      "text/plain": [
       "          Receiver Name Avg Quantity Claimed\n",
       "1           Nancy Jones              50.0000\n",
       "2            Lisa Pitts              50.0000\n",
       "3    Christopher Wright              50.0000\n",
       "4           Nancy Silva              50.0000\n",
       "5          Peggy Knight              50.0000\n",
       "..                  ...                  ...\n",
       "616       John Reynolds               2.0000\n",
       "617     Matthew Johnson               2.0000\n",
       "618      Kenneth Barnes               2.0000\n",
       "619        Amanda Kline               1.0000\n",
       "620       Joshua Hooper               1.0000\n",
       "\n",
       "[620 rows x 2 columns]"
      ]
     },
     "execution_count": 23,
     "metadata": {},
     "output_type": "execute_result"
    }
   ],
   "source": [
    "query = \"\"\"\n",
    "SELECT \n",
    "    r.Name,\n",
    "    AVG(CAST(f.Quantity AS UNSIGNED)) AS avg_quantity_claimed\n",
    "FROM claims c\n",
    "JOIN receivers r ON c.Reciever_ID = r.Receiver_ID\n",
    "JOIN food_listings f ON c.Food_ID = f.Food_ID\n",
    "GROUP BY r.Name\n",
    "ORDER BY avg_quantity_claimed DESC;\n",
    "\"\"\"\n",
    "\n",
    "cursor.execute(query)\n",
    "result = cursor.fetchall()\n",
    "\n",
    "df = pd.DataFrame(result, columns=['Receiver Name', 'Avg Quantity Claimed'])\n",
    "df.index = range(1, len(df) + 1)\n",
    "df\n"
   ]
  },
  {
   "cell_type": "markdown",
   "id": "1465efd0",
   "metadata": {},
   "source": [
    "# 12. Which meal type (breakfast, lunch, dinner, snacks) is claimed the most?"
   ]
  },
  {
   "cell_type": "code",
   "execution_count": 24,
   "id": "092b7b5a",
   "metadata": {},
   "outputs": [
    {
     "data": {
      "text/html": [
       "<div>\n",
       "<style scoped>\n",
       "    .dataframe tbody tr th:only-of-type {\n",
       "        vertical-align: middle;\n",
       "    }\n",
       "\n",
       "    .dataframe tbody tr th {\n",
       "        vertical-align: top;\n",
       "    }\n",
       "\n",
       "    .dataframe thead th {\n",
       "        text-align: right;\n",
       "    }\n",
       "</style>\n",
       "<table border=\"1\" class=\"dataframe\">\n",
       "  <thead>\n",
       "    <tr style=\"text-align: right;\">\n",
       "      <th></th>\n",
       "      <th>Meal Type</th>\n",
       "      <th>Total Claims</th>\n",
       "    </tr>\n",
       "  </thead>\n",
       "  <tbody>\n",
       "    <tr>\n",
       "      <th>1</th>\n",
       "      <td>Breakfast</td>\n",
       "      <td>278</td>\n",
       "    </tr>\n",
       "    <tr>\n",
       "      <th>2</th>\n",
       "      <td>Lunch</td>\n",
       "      <td>250</td>\n",
       "    </tr>\n",
       "    <tr>\n",
       "      <th>3</th>\n",
       "      <td>Snacks</td>\n",
       "      <td>240</td>\n",
       "    </tr>\n",
       "    <tr>\n",
       "      <th>4</th>\n",
       "      <td>Dinner</td>\n",
       "      <td>232</td>\n",
       "    </tr>\n",
       "  </tbody>\n",
       "</table>\n",
       "</div>"
      ],
      "text/plain": [
       "   Meal Type  Total Claims\n",
       "1  Breakfast           278\n",
       "2      Lunch           250\n",
       "3     Snacks           240\n",
       "4     Dinner           232"
      ]
     },
     "execution_count": 24,
     "metadata": {},
     "output_type": "execute_result"
    }
   ],
   "source": [
    "query = \"\"\"\n",
    "SELECT f.Meal_Type, COUNT(c.Claim_ID) AS total_claims\n",
    "FROM claims c\n",
    "JOIN food_listings f ON c.Food_ID = f.Food_ID\n",
    "GROUP BY f.Meal_Type\n",
    "ORDER BY total_claims DESC;\n",
    "\"\"\"\n",
    "\n",
    "cursor.execute(query)\n",
    "result = cursor.fetchall()\n",
    "\n",
    "df = pd.DataFrame(result, columns=['Meal Type', 'Total Claims'])\n",
    "df.index = range(1, len(df) + 1)\n",
    "df\n"
   ]
  },
  {
   "cell_type": "markdown",
   "id": "a0c98e1e",
   "metadata": {},
   "source": [
    "# 13. What is the total quantity of food donated by each provider?"
   ]
  },
  {
   "cell_type": "code",
   "execution_count": 192,
   "id": "330c6f6c",
   "metadata": {},
   "outputs": [
    {
     "data": {
      "text/html": [
       "<div>\n",
       "<style scoped>\n",
       "    .dataframe tbody tr th:only-of-type {\n",
       "        vertical-align: middle;\n",
       "    }\n",
       "\n",
       "    .dataframe tbody tr th {\n",
       "        vertical-align: top;\n",
       "    }\n",
       "\n",
       "    .dataframe thead th {\n",
       "        text-align: right;\n",
       "    }\n",
       "</style>\n",
       "<table border=\"1\" class=\"dataframe\">\n",
       "  <thead>\n",
       "    <tr style=\"text-align: right;\">\n",
       "      <th></th>\n",
       "      <th>Provider Name</th>\n",
       "      <th>Total Quantity Donated</th>\n",
       "    </tr>\n",
       "  </thead>\n",
       "  <tbody>\n",
       "    <tr>\n",
       "      <th>1</th>\n",
       "      <td>Miller Inc</td>\n",
       "      <td>217</td>\n",
       "    </tr>\n",
       "    <tr>\n",
       "      <th>2</th>\n",
       "      <td>Barry Group</td>\n",
       "      <td>179</td>\n",
       "    </tr>\n",
       "    <tr>\n",
       "      <th>3</th>\n",
       "      <td>Evans, Wright and Mitchell</td>\n",
       "      <td>158</td>\n",
       "    </tr>\n",
       "    <tr>\n",
       "      <th>4</th>\n",
       "      <td>Smith Group</td>\n",
       "      <td>150</td>\n",
       "    </tr>\n",
       "    <tr>\n",
       "      <th>5</th>\n",
       "      <td>Campbell LLC</td>\n",
       "      <td>145</td>\n",
       "    </tr>\n",
       "    <tr>\n",
       "      <th>...</th>\n",
       "      <td>...</td>\n",
       "      <td>...</td>\n",
       "    </tr>\n",
       "    <tr>\n",
       "      <th>624</th>\n",
       "      <td>Reyes and Sons</td>\n",
       "      <td>1</td>\n",
       "    </tr>\n",
       "    <tr>\n",
       "      <th>625</th>\n",
       "      <td>Gonzales-Moore</td>\n",
       "      <td>1</td>\n",
       "    </tr>\n",
       "    <tr>\n",
       "      <th>626</th>\n",
       "      <td>Norris-Townsend</td>\n",
       "      <td>1</td>\n",
       "    </tr>\n",
       "    <tr>\n",
       "      <th>627</th>\n",
       "      <td>Mcgee PLC</td>\n",
       "      <td>1</td>\n",
       "    </tr>\n",
       "    <tr>\n",
       "      <th>628</th>\n",
       "      <td>Martinez, Armstrong and Carroll</td>\n",
       "      <td>1</td>\n",
       "    </tr>\n",
       "  </tbody>\n",
       "</table>\n",
       "<p>628 rows × 2 columns</p>\n",
       "</div>"
      ],
      "text/plain": [
       "                       Provider Name Total Quantity Donated\n",
       "1                         Miller Inc                    217\n",
       "2                        Barry Group                    179\n",
       "3         Evans, Wright and Mitchell                    158\n",
       "4                        Smith Group                    150\n",
       "5                       Campbell LLC                    145\n",
       "..                               ...                    ...\n",
       "624                   Reyes and Sons                      1\n",
       "625                   Gonzales-Moore                      1\n",
       "626                  Norris-Townsend                      1\n",
       "627                        Mcgee PLC                      1\n",
       "628  Martinez, Armstrong and Carroll                      1\n",
       "\n",
       "[628 rows x 2 columns]"
      ]
     },
     "execution_count": 192,
     "metadata": {},
     "output_type": "execute_result"
    }
   ],
   "source": [
    "query = \"\"\"\n",
    "SELECT \n",
    "    p.Name AS provider_name,\n",
    "    SUM(CAST(f.Quantity AS UNSIGNED)) AS total_quantity_donated\n",
    "FROM food_listings f\n",
    "JOIN providers p ON f.Provider_ID = p.Providers_ID\n",
    "GROUP BY p.Name\n",
    "ORDER BY total_quantity_donated DESC;\n",
    "\"\"\"\n",
    "\n",
    "cursor.execute(query)\n",
    "result = cursor.fetchall()\n",
    "\n",
    "df = pd.DataFrame(result, columns=['Provider Name', 'Total Quantity Donated'])\n",
    "df.index = range(1, len(df) + 1)\n",
    "df\n"
   ]
  },
  {
   "cell_type": "markdown",
   "id": "4c44f1a6",
   "metadata": {},
   "source": [
    "# Extra Questions"
   ]
  },
  {
   "cell_type": "markdown",
   "id": "477951be",
   "metadata": {},
   "source": [
    "# 1. Top 10 Providers"
   ]
  },
  {
   "cell_type": "code",
   "execution_count": 194,
   "id": "633abd81",
   "metadata": {},
   "outputs": [
    {
     "data": {
      "text/html": [
       "<div>\n",
       "<style scoped>\n",
       "    .dataframe tbody tr th:only-of-type {\n",
       "        vertical-align: middle;\n",
       "    }\n",
       "\n",
       "    .dataframe tbody tr th {\n",
       "        vertical-align: top;\n",
       "    }\n",
       "\n",
       "    .dataframe thead th {\n",
       "        text-align: right;\n",
       "    }\n",
       "</style>\n",
       "<table border=\"1\" class=\"dataframe\">\n",
       "  <thead>\n",
       "    <tr style=\"text-align: right;\">\n",
       "      <th></th>\n",
       "      <th>Provider Name</th>\n",
       "      <th>Total Quantity Donated</th>\n",
       "    </tr>\n",
       "  </thead>\n",
       "  <tbody>\n",
       "    <tr>\n",
       "      <th>1</th>\n",
       "      <td>Miller Inc</td>\n",
       "      <td>217</td>\n",
       "    </tr>\n",
       "    <tr>\n",
       "      <th>2</th>\n",
       "      <td>Barry Group</td>\n",
       "      <td>179</td>\n",
       "    </tr>\n",
       "    <tr>\n",
       "      <th>3</th>\n",
       "      <td>Evans, Wright and Mitchell</td>\n",
       "      <td>158</td>\n",
       "    </tr>\n",
       "    <tr>\n",
       "      <th>4</th>\n",
       "      <td>Smith Group</td>\n",
       "      <td>150</td>\n",
       "    </tr>\n",
       "    <tr>\n",
       "      <th>5</th>\n",
       "      <td>Campbell LLC</td>\n",
       "      <td>145</td>\n",
       "    </tr>\n",
       "    <tr>\n",
       "      <th>6</th>\n",
       "      <td>Nelson LLC</td>\n",
       "      <td>142</td>\n",
       "    </tr>\n",
       "    <tr>\n",
       "      <th>7</th>\n",
       "      <td>Ruiz-Oneal</td>\n",
       "      <td>140</td>\n",
       "    </tr>\n",
       "    <tr>\n",
       "      <th>8</th>\n",
       "      <td>Blankenship-Lewis</td>\n",
       "      <td>124</td>\n",
       "    </tr>\n",
       "    <tr>\n",
       "      <th>9</th>\n",
       "      <td>Kelly-Ware</td>\n",
       "      <td>123</td>\n",
       "    </tr>\n",
       "    <tr>\n",
       "      <th>10</th>\n",
       "      <td>Bradford-Martinez</td>\n",
       "      <td>121</td>\n",
       "    </tr>\n",
       "  </tbody>\n",
       "</table>\n",
       "</div>"
      ],
      "text/plain": [
       "                 Provider Name Total Quantity Donated\n",
       "1                   Miller Inc                    217\n",
       "2                  Barry Group                    179\n",
       "3   Evans, Wright and Mitchell                    158\n",
       "4                  Smith Group                    150\n",
       "5                 Campbell LLC                    145\n",
       "6                   Nelson LLC                    142\n",
       "7                   Ruiz-Oneal                    140\n",
       "8            Blankenship-Lewis                    124\n",
       "9                   Kelly-Ware                    123\n",
       "10           Bradford-Martinez                    121"
      ]
     },
     "execution_count": 194,
     "metadata": {},
     "output_type": "execute_result"
    }
   ],
   "source": [
    "query = \"\"\"\n",
    "SELECT \n",
    "    p.Name AS provider_name,\n",
    "    SUM(CAST(f.Quantity AS UNSIGNED)) AS total_quantity_donated\n",
    "FROM food_listings f\n",
    "JOIN providers p ON f.Provider_ID = p.Providers_ID\n",
    "GROUP BY p.Name\n",
    "ORDER BY total_quantity_donated DESC\n",
    "LIMIT 10;\n",
    "\"\"\"\n",
    "\n",
    "cursor.execute(query)\n",
    "result = cursor.fetchall()\n",
    "\n",
    "df = pd.DataFrame(result, columns=['Provider Name', 'Total Quantity Donated'])\n",
    "df.index = range(1, len(df) + 1)\n",
    "df\n"
   ]
  },
  {
   "cell_type": "markdown",
   "id": "bc82d925",
   "metadata": {},
   "source": [
    "# 2. How many types of meals are available"
   ]
  },
  {
   "cell_type": "code",
   "execution_count": 197,
   "id": "9e478d48",
   "metadata": {},
   "outputs": [
    {
     "data": {
      "text/html": [
       "<div>\n",
       "<style scoped>\n",
       "    .dataframe tbody tr th:only-of-type {\n",
       "        vertical-align: middle;\n",
       "    }\n",
       "\n",
       "    .dataframe tbody tr th {\n",
       "        vertical-align: top;\n",
       "    }\n",
       "\n",
       "    .dataframe thead th {\n",
       "        text-align: right;\n",
       "    }\n",
       "</style>\n",
       "<table border=\"1\" class=\"dataframe\">\n",
       "  <thead>\n",
       "    <tr style=\"text-align: right;\">\n",
       "      <th></th>\n",
       "      <th>Types of Meals</th>\n",
       "    </tr>\n",
       "  </thead>\n",
       "  <tbody>\n",
       "    <tr>\n",
       "      <th>1</th>\n",
       "      <td>Breakfast</td>\n",
       "    </tr>\n",
       "    <tr>\n",
       "      <th>2</th>\n",
       "      <td>Dinner</td>\n",
       "    </tr>\n",
       "    <tr>\n",
       "      <th>3</th>\n",
       "      <td>Lunch</td>\n",
       "    </tr>\n",
       "    <tr>\n",
       "      <th>4</th>\n",
       "      <td>Snacks</td>\n",
       "    </tr>\n",
       "  </tbody>\n",
       "</table>\n",
       "</div>"
      ],
      "text/plain": [
       "  Types of Meals\n",
       "1      Breakfast\n",
       "2         Dinner\n",
       "3          Lunch\n",
       "4         Snacks"
      ]
     },
     "execution_count": 197,
     "metadata": {},
     "output_type": "execute_result"
    }
   ],
   "source": [
    "query=\"\"\"\n",
    "SELECT DISTINCT Meal_Type FROM food_listings;\n",
    "\"\"\"\n",
    "cursor.execute(query)\n",
    "result = cursor.fetchall()\n",
    "\n",
    "df = pd.DataFrame(result, columns=['Types of Meals'])\n",
    "df.index = range(1, len(df) + 1)\n",
    "df"
   ]
  },
  {
   "cell_type": "markdown",
   "id": "6df330a7",
   "metadata": {},
   "source": [
    "# 3. Which city has most food recievers"
   ]
  },
  {
   "cell_type": "code",
   "execution_count": 200,
   "id": "6ab26a22",
   "metadata": {},
   "outputs": [
    {
     "data": {
      "text/html": [
       "<div>\n",
       "<style scoped>\n",
       "    .dataframe tbody tr th:only-of-type {\n",
       "        vertical-align: middle;\n",
       "    }\n",
       "\n",
       "    .dataframe tbody tr th {\n",
       "        vertical-align: top;\n",
       "    }\n",
       "\n",
       "    .dataframe thead th {\n",
       "        text-align: right;\n",
       "    }\n",
       "</style>\n",
       "<table border=\"1\" class=\"dataframe\">\n",
       "  <thead>\n",
       "    <tr style=\"text-align: right;\">\n",
       "      <th></th>\n",
       "      <th>City</th>\n",
       "      <th>Most Food Recievers</th>\n",
       "    </tr>\n",
       "  </thead>\n",
       "  <tbody>\n",
       "    <tr>\n",
       "      <th>1</th>\n",
       "      <td>New Christopher</td>\n",
       "      <td>3</td>\n",
       "    </tr>\n",
       "  </tbody>\n",
       "</table>\n",
       "</div>"
      ],
      "text/plain": [
       "              City  Most Food Recievers\n",
       "1  New Christopher                    3"
      ]
     },
     "execution_count": 200,
     "metadata": {},
     "output_type": "execute_result"
    }
   ],
   "source": [
    "query=\"\"\"\n",
    "SELECT City, COUNT(*) AS receiver_count\n",
    "FROM receivers\n",
    "GROUP BY City\n",
    "ORDER BY receiver_count DESC\n",
    "LIMIT 1;\n",
    "\"\"\"\n",
    "cursor.execute(query)\n",
    "result = cursor.fetchall()\n",
    "\n",
    "df = pd.DataFrame(result, columns=['City','Most Food Recievers'])\n",
    "df.index = range(1, len(df) + 1)\n",
    "df"
   ]
  },
  {
   "cell_type": "markdown",
   "id": "f3831277",
   "metadata": {},
   "source": [
    "# 4. Which food type have many providers"
   ]
  },
  {
   "cell_type": "code",
   "execution_count": 202,
   "id": "f340f67d",
   "metadata": {},
   "outputs": [
    {
     "data": {
      "text/html": [
       "<div>\n",
       "<style scoped>\n",
       "    .dataframe tbody tr th:only-of-type {\n",
       "        vertical-align: middle;\n",
       "    }\n",
       "\n",
       "    .dataframe tbody tr th {\n",
       "        vertical-align: top;\n",
       "    }\n",
       "\n",
       "    .dataframe thead th {\n",
       "        text-align: right;\n",
       "    }\n",
       "</style>\n",
       "<table border=\"1\" class=\"dataframe\">\n",
       "  <thead>\n",
       "    <tr style=\"text-align: right;\">\n",
       "      <th></th>\n",
       "      <th>Food Type</th>\n",
       "      <th>Number of Providers</th>\n",
       "    </tr>\n",
       "  </thead>\n",
       "  <tbody>\n",
       "    <tr>\n",
       "      <th>1</th>\n",
       "      <td>Vegan</td>\n",
       "      <td>288</td>\n",
       "    </tr>\n",
       "    <tr>\n",
       "      <th>2</th>\n",
       "      <td>Vegetarian</td>\n",
       "      <td>286</td>\n",
       "    </tr>\n",
       "    <tr>\n",
       "      <th>3</th>\n",
       "      <td>Non-Vegetarian</td>\n",
       "      <td>284</td>\n",
       "    </tr>\n",
       "  </tbody>\n",
       "</table>\n",
       "</div>"
      ],
      "text/plain": [
       "        Food Type  Number of Providers\n",
       "1           Vegan                  288\n",
       "2      Vegetarian                  286\n",
       "3  Non-Vegetarian                  284"
      ]
     },
     "execution_count": 202,
     "metadata": {},
     "output_type": "execute_result"
    }
   ],
   "source": [
    "query = \"\"\"\n",
    "SELECT \n",
    "    Food_Type,\n",
    "    COUNT(DISTINCT Provider_ID) AS provider_count\n",
    "FROM food_listings\n",
    "GROUP BY Food_Type\n",
    "ORDER BY provider_count DESC;\n",
    "\"\"\"\n",
    "\n",
    "cursor.execute(query)\n",
    "result = cursor.fetchall()\n",
    "\n",
    "df = pd.DataFrame(result, columns=['Food Type', 'Number of Providers'])\n",
    "df.index = range(1, len(df) + 1)\n",
    "df\n"
   ]
  },
  {
   "cell_type": "markdown",
   "id": "16d1d411",
   "metadata": {},
   "source": [
    "# 5. Number of claims that are cancelled\n"
   ]
  },
  {
   "cell_type": "code",
   "execution_count": 204,
   "id": "3e69c323",
   "metadata": {},
   "outputs": [
    {
     "data": {
      "text/html": [
       "<div>\n",
       "<style scoped>\n",
       "    .dataframe tbody tr th:only-of-type {\n",
       "        vertical-align: middle;\n",
       "    }\n",
       "\n",
       "    .dataframe tbody tr th {\n",
       "        vertical-align: top;\n",
       "    }\n",
       "\n",
       "    .dataframe thead th {\n",
       "        text-align: right;\n",
       "    }\n",
       "</style>\n",
       "<table border=\"1\" class=\"dataframe\">\n",
       "  <thead>\n",
       "    <tr style=\"text-align: right;\">\n",
       "      <th></th>\n",
       "      <th>Cancelled Claims</th>\n",
       "    </tr>\n",
       "  </thead>\n",
       "  <tbody>\n",
       "    <tr>\n",
       "      <th>1</th>\n",
       "      <td>336</td>\n",
       "    </tr>\n",
       "  </tbody>\n",
       "</table>\n",
       "</div>"
      ],
      "text/plain": [
       "   Cancelled Claims\n",
       "1               336"
      ]
     },
     "execution_count": 204,
     "metadata": {},
     "output_type": "execute_result"
    }
   ],
   "source": [
    "query = \"\"\"\n",
    "SELECT COUNT(*) AS cancelled_claims\n",
    "FROM claims\n",
    "WHERE Status = 'Cancelled';\n",
    "\"\"\"\n",
    "\n",
    "cursor.execute(query)\n",
    "result = cursor.fetchall()\n",
    "\n",
    "df = pd.DataFrame(result, columns=['Cancelled Claims'])\n",
    "df.index = range(1, len(df) + 1)\n",
    "df\n"
   ]
  },
  {
   "cell_type": "code",
   "execution_count": null,
   "id": "2b0c55d3",
   "metadata": {},
   "outputs": [],
   "source": []
  }
 ],
 "metadata": {
  "kernelspec": {
   "display_name": "env",
   "language": "python",
   "name": "python3"
  },
  "language_info": {
   "codemirror_mode": {
    "name": "ipython",
    "version": 3
   },
   "file_extension": ".py",
   "mimetype": "text/x-python",
   "name": "python",
   "nbconvert_exporter": "python",
   "pygments_lexer": "ipython3",
   "version": "3.13.3"
  }
 },
 "nbformat": 4,
 "nbformat_minor": 5
}
